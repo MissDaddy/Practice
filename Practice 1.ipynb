{
 "cells": [
  {
   "cell_type": "code",
   "execution_count": 1,
   "metadata": {},
   "outputs": [],
   "source": [
    "import turtle as trl \n"
   ]
  },
  {
   "cell_type": "code",
   "execution_count": null,
   "metadata": {},
   "outputs": [],
   "source": [
    "trl.shape(\"arrow\") #chanage icon\n",
    "\n",
    "trl.bgcolor(\"blue\") #change background colour\n",
    "\n",
    "trl.bgpic(\"sky.png\") #set image as background. Warning: need good wifi"
   ]
  },
  {
   "cell_type": "code",
   "execution_count": 4,
   "metadata": {},
   "outputs": [],
   "source": [
    "trl.reset() #Reseting the image"
   ]
  },
  {
   "cell_type": "code",
   "execution_count": null,
   "metadata": {},
   "outputs": [],
   "source": [
    "trl.setheading(90) #setting direction\n"
   ]
  },
  {
   "cell_type": "code",
   "execution_count": null,
   "metadata": {},
   "outputs": [],
   "source": [
    "for x in range(4): #how to create loops\n",
    "    trl.forward(200)\n",
    "    trl.left(90)"
   ]
  },
  {
   "cell_type": "code",
   "execution_count": null,
   "metadata": {},
   "outputs": [],
   "source": [
    "#Drawing a star thing\n",
    "\n",
    "from turtle import * #importing greedy\n",
    "\n",
    "color('orange', 'yellow') #first color=outline, second color=fill\n",
    "begin_fill()\n",
    "while True:\n",
    "    trl.forward(250)\n",
    "    trl.left(170)\n",
    "    if abs(pos()) < 1:\n",
    "        break\n",
    "end_fill()\n",
    "done()"
   ]
  },
  {
   "cell_type": "code",
   "execution_count": null,
   "metadata": {},
   "outputs": [],
   "source": [
    "#defining a function\n",
    "\n",
    "def hexagon():\n",
    "    for x in range(6):\n",
    "        trl.forward(100)\n",
    "        trl.left(60)\n",
    "\n",
    "hexagon()"
   ]
  },
  {
   "cell_type": "code",
   "execution_count": 1,
   "metadata": {},
   "outputs": [],
   "source": [
    "#creating four turles at the same coordinates facing four 90degree angles\n",
    "import turtle as trl\n",
    "from turtle import *\n",
    "\n",
    "t1= trl.Turtle()\n",
    "t1.color(\"black\")\n",
    "t1.setheading(60)\n",
    "t1.setposition(0,0)\n",
    "\n",
    "t2= trl.Turtle()\n",
    "t2.color(\"grey\")\n",
    "t2.setheading(120)\n",
    "t2.setposition(0,0)\n",
    "\n",
    "t3= trl.Turtle()\n",
    "t3.color(\"blue\")\n",
    "t3.setheading(180)\n",
    "t3.setposition(0,0)\n",
    "\n",
    "t4= trl.Turtle()\n",
    "t4.color(\"purple\")\n",
    "t4.setheading(240)\n",
    "t4.setposition(0,0)\n",
    "\n",
    "t5= trl.Turtle()\n",
    "t5.color(\"green\")\n",
    "t5.setheading(300)\n",
    "t5.setposition(0,0)\n",
    "\n",
    "t6 = trl.Turtle()\n",
    "t6.color(\"red\")\n",
    "t6.setheading(0)\n",
    "t6.setposition(0,0)\n",
    "\n",
    "\n",
    "def hex1():\n",
    "    for x in range(6):\n",
    "        t1.forward(100) \n",
    "        t1.left(60)\n",
    "\n",
    "def hex2():\n",
    "    for x in range(6):\n",
    "        t2.forward(100)\n",
    "        t2.left(60) \n",
    "\n",
    "def hex3():\n",
    "    for x in range(6):\n",
    "        t3.forward(100)\n",
    "        t3.left(60)\n",
    "    \n",
    "def hex4():\n",
    "    for x in range(6):\n",
    "        t4.forward(100)\n",
    "        t4.left(60)\n",
    "    \n",
    "def hex5():\n",
    "    for x in range(6):\n",
    "        t5.forward(100)\n",
    "        t5.left(60)\n",
    "    \n",
    "def hex6():\n",
    "    for x in range(6):\n",
    "        t6.forward(100)\n",
    "        t6.left(60)\n",
    "\n",
    "def ghex():\n",
    "        hex1()\n",
    "        hex2()\n",
    "        hex3()\n",
    "        hex4()\n",
    "        hex5()\n",
    "        hex6()\n",
    "\n",
    "    \n",
    "\n",
    "ghex()\n",
    "\n",
    "\n",
    "    "
   ]
  },
  {
   "cell_type": "code",
   "execution_count": 3,
   "metadata": {},
   "outputs": [],
   "source": []
  },
  {
   "cell_type": "code",
   "execution_count": null,
   "metadata": {},
   "outputs": [],
   "source": []
  }
 ],
 "metadata": {
  "kernelspec": {
   "display_name": "Python 3",
   "language": "python",
   "name": "python3"
  },
  "language_info": {
   "codemirror_mode": {
    "name": "ipython",
    "version": 3
   },
   "file_extension": ".py",
   "mimetype": "text/x-python",
   "name": "python",
   "nbconvert_exporter": "python",
   "pygments_lexer": "ipython3",
   "version": "3.7.3"
  }
 },
 "nbformat": 4,
 "nbformat_minor": 2
}
