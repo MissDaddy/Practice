{
 "cells": [
  {
   "cell_type": "code",
   "execution_count": 1,
   "metadata": {},
   "outputs": [],
   "source": [
    "# Splitting strings into individual words"
   ]
  },
  {
   "cell_type": "code",
   "execution_count": 2,
   "metadata": {},
   "outputs": [],
   "source": [
    "import re"
   ]
  },
  {
   "cell_type": "code",
   "execution_count": 3,
   "metadata": {},
   "outputs": [
    {
     "data": {
      "text/plain": [
       "['Let',\n",
       " 's',\n",
       " 'try',\n",
       " 'to',\n",
       " 'figure',\n",
       " 'out',\n",
       " 'what',\n",
       " 'the',\n",
       " 'fuck',\n",
       " 'is',\n",
       " 'going',\n",
       " 'on',\n",
       " 'shall',\n",
       " 'we']"
      ]
     },
     "execution_count": 3,
     "metadata": {},
     "output_type": "execute_result"
    }
   ],
   "source": [
    "my_string = \"Let's try to figure out what the fuck is going on, shall we?\"\n",
    "re.findall(\"\\w+\", my_string)\n",
    "\n"
   ]
  },
  {
   "cell_type": "code",
   "execution_count": 4,
   "metadata": {},
   "outputs": [],
   "source": [
    "#Problem: it isolates letters after an apostrophe as a seperate word"
   ]
  },
  {
   "cell_type": "code",
   "execution_count": 5,
   "metadata": {},
   "outputs": [],
   "source": [
    "#Practicing regular expressions: re.split() and re.findall()"
   ]
  },
  {
   "cell_type": "code",
   "execution_count": 6,
   "metadata": {},
   "outputs": [
    {
     "data": {
      "text/plain": [
       "['What', ' Where', ' Why', ' Fucking shit cunt bollocks prick', '']"
      ]
     },
     "execution_count": 6,
     "metadata": {},
     "output_type": "execute_result"
    }
   ],
   "source": [
    "#Splitting strings by punctuation\n",
    "#This would allow me to extract every question or individual sentence hehe\n",
    "\n",
    "sentence_endings = r\"[.?!]\"\n",
    "\n",
    "string_2 = (\"What? Where? Why! Fucking shit cunt bollocks prick!\")\n",
    "\n",
    "re.split(sentence_endings, string_2)"
   ]
  },
  {
   "cell_type": "code",
   "execution_count": 7,
   "metadata": {},
   "outputs": [
    {
     "name": "stdout",
     "output_type": "stream",
     "text": [
      "['The', 'Writer', 'Hand', 'What', 'Whose', 'Bone', 'And', 'What', 'Obscure', 'What', 'Is', 'Produced', 'You', 'Is', 'To', 'Like', 'There', 'Can', 'Or', 'Into', 'You', 'To', 'But', 'The', 'Upon', 'Aesthetic', 'Is', 'What']\n"
     ]
    }
   ],
   "source": [
    "#Finding all capitalized words in a string\n",
    "\n",
    "file = open('the_writers_hand.txt', 'r') #opening file\n",
    "\n",
    "writers_hand = file.read() #reading file\n",
    "\n",
    "writers_hand #Printing to check it works\n",
    "\n",
    "capitalized_words = r\"[ABCDEFGHIJKLMNOPQRSTUVWXYZ]\\w+\"\n",
    "print(re.findall(capitalized_words, writers_hand))\n",
    "\n",
    "#Oh my god, it worked first time.\n",
    "\n"
   ]
  },
  {
   "cell_type": "code",
   "execution_count": 8,
   "metadata": {},
   "outputs": [
    {
     "name": "stdout",
     "output_type": "stream",
     "text": [
      "['The', \"Writer's\", 'Hand\\n\\nWhat', 'is', 'your', 'want,', 'perpetual', 'invalid\\nWhose', 'fist', 'is', 'always', 'beating', 'on', 'my', \"breast's\\nBone\", 'wall,', 'incurable', 'dictator', 'of', 'my', 'house\\nAnd', 'breaker', 'of', 'its', 'peace?', 'What', 'is', 'your', 'will,\\nObscure', 'uneasy', 'sprite', ':', 'where', 'must', 'I', 'run,\\nWhat', 'must', 'I', 'seize,', 'to', 'win\\nA', 'brief', 'respite', 'from', 'your', 'repining', 'cries?\\n\\nIs', 'it', 'a', 'star,', 'the', 'passionate', 'short', 'spark\\nProduced', 'by', 'friction', 'with', \"another's\", 'flesh\\nYou', 'ache', 'more', 'darkly', 'after.', 'Is', 'it', 'power', ':\\nTo', 'snap', \"restriction's\", 'leash,', 'to', 'leap\\nLike', 'bloodhounds', 'on', 'the', 'enemy?', 'There', 'is', 'no', 'grip\\nCan', 'crush', 'the', 'fate', 'you', 'fight.', 'Or', 'is', 'it', 'to', 'escape\\nInto', 'the', 'dream-perspectives', 'maps', 'and', 'speed', 'create?\\n\\nYou', 'never', 'listen,', \"disillusion's\", 'dumb\\nTo', 'your', 'unheeding', 'ear.', 'But', 'see', 'my', 'hand,\\nThe', 'only', 'army', 'to', 'enforce', 'your', 'claim\\nUpon', \"life's\", 'hostile', 'land', ':', 'five', 'pale,', 'effete\\nAesthetic-looking', 'fingers,', 'whose', 'chief', 'feat\\nIs', 'to', 'trace', 'lines', 'like', 'these', 'across', 'a', 'page', ':\\nWhat', 'small', 'relief', 'can', 'they', 'bring', 'to', 'your', 'siege!\\n']\n"
     ]
    }
   ],
   "source": [
    "#Splitting strings by spaces\n",
    "\n",
    "spaces = r\" \" #defining spaces\n",
    "print(re.split(spaces, writers_hand)) #splittling string with spaces\n",
    "\n",
    "clean_hand = writers_hand.replace('\\n', ' ') #Cleaning data with limited success\n",
    "\n",
    "#can make data cleaning poetry texts easier by adding a blank space to the end lines of texts before importing them :)"
   ]
  },
  {
   "cell_type": "code",
   "execution_count": 9,
   "metadata": {},
   "outputs": [
    {
     "name": "stdout",
     "output_type": "stream",
     "text": [
      "['100', '200', '300', '400', '500', '600', '700']\n"
     ]
    }
   ],
   "source": [
    "# Finding all the digits in a string and either extracting or excluding them\n",
    "\n",
    "string_4 = \"One hundred, 100, two hundred, 200, three hundred, 300, four hundred, 400, five hundred, 500, six hundred, 600, seven hundred, 700\"\n",
    "\n",
    "print(re.findall('\\d+', string_4)) #Dont forget to add + or it retrieves individual digits"
   ]
  },
  {
   "cell_type": "code",
   "execution_count": null,
   "metadata": {},
   "outputs": [],
   "source": []
  }
 ],
 "metadata": {
  "kernelspec": {
   "display_name": "Python 3",
   "language": "python",
   "name": "python3"
  },
  "language_info": {
   "codemirror_mode": {
    "name": "ipython",
    "version": 3
   },
   "file_extension": ".py",
   "mimetype": "text/x-python",
   "name": "python",
   "nbconvert_exporter": "python",
   "pygments_lexer": "ipython3",
   "version": "3.7.4"
  }
 },
 "nbformat": 4,
 "nbformat_minor": 2
}
