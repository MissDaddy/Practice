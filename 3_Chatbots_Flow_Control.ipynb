{
 "cells": [
  {
   "cell_type": "markdown",
   "metadata": {},
   "source": [
    "<div class=\"alert alert-block alert-info\">\n",
    "<h2>3. Chatbots & Interactivity for Better User Experience (UX)</h2><br><br>\n",
    "<p>Chatbots (a.k.a chatterbots, talkbots, or bots) are computer programmes that mimic human conversation by using natural language processing (NLP).</p>\n",
    "<p>Chatbots add personality to machines in machine-human communication. Making machines to respond to human input improves user experience (UX) online.</p> \n",
    "<p>Chabots may be embedded in messaging apps to offer a small talk to online users.</p><br>\n",
    "<p>The simplest way to create a chatbot with Python is to use dictionaries. We'll use keys for user messaging and values for a bot's response to human input.</p>\n",
    "<p>Python techniques such as <b>loops</b> and <b>conditional</b> statements are key techniques in creating chatbots and other forms of interactivity. The <b><em style=\"color: blue\">while</em></b> loops, for example, are behind our online interactions that require user input and decision to terminate the programme.</p>\n",
    "</div>"
   ]
  },
  {
   "cell_type": "markdown",
   "metadata": {},
   "source": [
    "<div class=\"alert-alert-block alert-danger\">\n",
    "<h3>FLOW CONTROL AND CODE BLOCKS</h3>\n",
    "<p><i>Flow Control</i> is the order in which the code is executed. In Python, flow control is regulated by conditional statements, loops and function calls which are generically known as 'flow control statements'. These statements decide what to do based on options and whether certain conditions are met or not.</p><br>\n",
    "<p>Flow control statements involve more than one line of Python code. These lines need to be combined into blocks of code. The indentation of code lines tell us where the block of code begins and ends.</p>\n",
    "<p></p>\n",
    "<p></p>\n",
    "</div>"
   ]
  },
  {
   "cell_type": "markdown",
   "metadata": {},
   "source": [
    "<div class=\"alert-alert-bock alert-danger\">\n",
    "    <h3>CONDITIONALS</h3>\n",
    "    <p></p>\n",
    "    <p></p>\n",
    "    <p></p>   \n",
    "</div>"
   ]
  },
  {
   "cell_type": "code",
   "execution_count": 1,
   "metadata": {},
   "outputs": [
    {
     "data": {
      "text/plain": [
       "True"
      ]
     },
     "execution_count": 1,
     "metadata": {},
     "output_type": "execute_result"
    }
   ],
   "source": [
    "# Flow control statements often rely on comparison operators and Boolean operators.\n",
    "# Comparison operators, e.g:  == (equal to), != (not equal to), < (less than), > (more than) and other.\n",
    "# 3 Boolean operators: and, or, not\n",
    "# Comparison and Bollean operators may be combined to check whether something is true or false under certain conditions.\n",
    "\n",
    "(4 < 5) and (5 < 6)\n",
    "\n",
    "# Check the output of the following expression: (4 < 5) and (9 < 6)"
   ]
  },
  {
   "cell_type": "code",
   "execution_count": 2,
   "metadata": {},
   "outputs": [
    {
     "name": "stdout",
     "output_type": "stream",
     "text": [
      "Hi, Gabriele, you have a new message!\n"
     ]
    }
   ],
   "source": [
    "# Let's write a basic code block to check whether something is true.\n",
    "# Will start with the if statement.\n",
    "\n",
    "name = 'Gabriele'\n",
    "\n",
    "if name == 'Gabriele':\n",
    "    print('Hi, Gabriele, you have a new message!')\n",
    "\n",
    "# Pay attention to indentation (space before the print function). Lines need to be indented after conditional & loop statements.\n",
    "# In Python, indentation helps structure code blocks. Wrongly indented lines in code blocks will yield error."
   ]
  },
  {
   "cell_type": "code",
   "execution_count": 3,
   "metadata": {},
   "outputs": [
    {
     "name": "stdout",
     "output_type": "stream",
     "text": [
      "Go away, intruder!\n"
     ]
    }
   ],
   "source": [
    "# Let's introduce more conditions to give a machine a choice by adding the else statements after the if clause.\n",
    "# The machine will execute the else statement only when the if statement is False.\n",
    "# Since we assigned 'Gabriele' to a variable, the machine knows it. Any other data we try to enter will be new.\n",
    "# So let's enter a new name to check how the machine responds.\n",
    "\n",
    "if name == 'Claus':\n",
    "    print('Hi, Gabriele, you have a new message!')\n",
    "else:\n",
    "    print('Go away, intruder!')\n",
    "\n",
    "# Again, pay attention to indentation in the code block above. The code block here consists of 4 code lines."
   ]
  },
  {
   "cell_type": "code",
   "execution_count": 4,
   "metadata": {},
   "outputs": [
    {
     "name": "stdout",
     "output_type": "stream",
     "text": [
      "Hi, Gabriele, you have a new message!\n"
     ]
    }
   ],
   "source": [
    "# We may let the machine to accept more data and options with the elif statements.\n",
    "\n",
    "\n",
    "if name == 'Gabriele':\n",
    "    print('Hi, Gabriele, you have a new message!')\n",
    "elif name == 'Ugne':\n",
    "    print('Hi, Ugne, you do not have any new messages but you can stay!')\n",
    "elif name == 'Tom':\n",
    "    print('Hi, Tom, you can also stay!')\n",
    "else:\n",
    "    print('Go away, intruder!')"
   ]
  },
  {
   "cell_type": "code",
   "execution_count": 5,
   "metadata": {},
   "outputs": [
    {
     "data": {
      "text/plain": [
       "{'Gabriele': 'Hi, come in!', 'Ugne': 'Hi, come in!', 'Tom': 'Hi, come in!'}"
      ]
     },
     "execution_count": 5,
     "metadata": {},
     "output_type": "execute_result"
    }
   ],
   "source": [
    "# if-elif statements can get very lenghty. \n",
    "# A more Pythonic way around this problem is to use dictionaries and their get() method that we learnt last week.\n",
    "\n",
    "names = {\n",
    "    'Gabriele': 'Hi, come in!',\n",
    "    'Ugne': 'Hi, come in!',\n",
    "    'Tom': 'Hi, come in!'\n",
    "}\n",
    "\n",
    "names"
   ]
  },
  {
   "cell_type": "code",
   "execution_count": 6,
   "metadata": {},
   "outputs": [
    {
     "name": "stdout",
     "output_type": "stream",
     "text": [
      "Hi, come in!\n"
     ]
    }
   ],
   "source": [
    "print(names.get('Ugne', 'Go away'))\n",
    "\n",
    "# Now instead of 'Ugne' enter another name that is not defined in a dictionary to see how it behaves."
   ]
  },
  {
   "cell_type": "markdown",
   "metadata": {},
   "source": [
    "<div class=\"alert-alert-block alert-danger\">\n",
    "<h3>LOOPS</h3>\n",
    "<p>There are two major types of loops in Python: <i><b>for</b></i> loops and <i><b>while</b></i> loops.</p>\n",
    "<p>Use <i><b>while</b></i> loop when you do not know how many times loop needs to be executed beforehand.</p>\n",
    "<p> Use <i><b>for</b></i> loop if you know about the number of times loop needs to be executed.</p>\n",
    "</div>"
   ]
  },
  {
   "attachments": {
    "image.png": {
     "image/png": "[encoded data removed]"
    }
   },
   "cell_type": "markdown",
   "metadata": {},
   "source": [
    "\n",
    "![image.png](attachment:image.png)"
   ]
  },
  {
   "cell_type": "code",
   "execution_count": 7,
   "metadata": {},
   "outputs": [],
   "source": [
    "# while loops should run on conditional thinking.\n",
    "# The code below does not have a condition specified. Remove the comment sign # and run the code to see what happens.\n",
    "\n",
    "# while True:\n",
    "    # print(\"When will it end?\")\n",
    "\n",
    "# Because the code block does not have any condition set, it will run forever."
   ]
  },
  {
   "cell_type": "code",
   "execution_count": 8,
   "metadata": {},
   "outputs": [
    {
     "name": "stdout",
     "output_type": "stream",
     "text": [
      "1\n",
      "3\n",
      "5\n",
      "7\n",
      "9\n"
     ]
    }
   ],
   "source": [
    "# Like conditionals, loops also appear in code blocks where indentation is crucial.\n",
    "# We need to set some conditions here to escape an endless loop\n",
    "a = 1\n",
    "\n",
    "while a <10:\n",
    "    print(a)\n",
    "    a=a+2 \n",
    "    \n",
    "# a+2 tells the loop to keep increasing the value of 'a' by 2 "
   ]
  },
  {
   "cell_type": "code",
   "execution_count": 9,
   "metadata": {},
   "outputs": [
    {
     "name": "stdout",
     "output_type": "stream",
     "text": [
      "Max\n",
      "Arf, arf!\n",
      "Molly\n",
      "Arf, arf!\n",
      "Buster\n",
      "Arf, arf!\n",
      "Rikis\n",
      "Arf, arf!\n",
      "Lucy\n",
      "Arf, arf!\n",
      "All done.\n"
     ]
    }
   ],
   "source": [
    "# Let's create a primitve game with the for loop.\n",
    "\n",
    "for dogname in ['Max', 'Molly', 'Buster', 'Rikis', 'Lucy']:\n",
    "    print(dogname)\n",
    "    print(\"Arf, arf!\")   \n",
    "print(\"All done.\")\n"
   ]
  },
  {
   "cell_type": "code",
   "execution_count": 10,
   "metadata": {},
   "outputs": [
    {
     "name": "stdout",
     "output_type": "stream",
     "text": [
      "Thank you\n",
      "Thank you\n",
      "Thank you\n",
      "Thank you\n",
      "Thank you\n"
     ]
    }
   ],
   "source": [
    "# To instruct the machine to repeat a certain operation n times, you need to set the range.\n",
    "# For example, if you want a phrase to be repeated 5 times, pass value 5 in range() function.\n",
    "\n",
    "for x in range(5):\n",
    "    print('Thank you')"
   ]
  },
  {
   "cell_type": "markdown",
   "metadata": {},
   "source": [
    "<div class=\"alert-alert-bock alert-danger\">\n",
    "    <h3>CONDITIONALS AND LOOPS COMBINED</h3>\n",
    "</div>"
   ]
  },
  {
   "cell_type": "code",
   "execution_count": 11,
   "metadata": {},
   "outputs": [
    {
     "name": "stdout",
     "output_type": "stream",
     "text": [
      "Whom else do you know?: Tom\n",
      "['Sam', 'Liz', 'Rose', 'Tom']\n"
     ]
    }
   ],
   "source": [
    "# Let's see how we can make our code interactive by allowing someone else to modify, for example, our list.\n",
    "# The input() function allows others submit their input.\n",
    "# input() always returns strings. If you want it to return an integer instead, use int(input('How old are you?'))\n",
    "\n",
    "names =['Sam', 'Liz', 'Rose']\n",
    "newname = input('Whom else do you know?: ')\n",
    "\n",
    "names.append(newname)\n",
    "\n",
    "print(names)"
   ]
  },
  {
   "cell_type": "code",
   "execution_count": 12,
   "metadata": {},
   "outputs": [
    {
     "name": "stdout",
     "output_type": "stream",
     "text": [
      "Whom else do you know? If none, enter \"quit\"Rose\n",
      "Whom else do you know? If none, enter \"quit\"Will\n",
      "Whom else do you know? If none, enter \"quit\"John\n",
      "Whom else do you know? If none, enter \"quit\"Ugne\n",
      "Whom else do you know? If none, enter \"quit\"quit\n"
     ]
    }
   ],
   "source": [
    "# The above code offers limited interaction. \n",
    "# If we want to allow a user to decide when it ends, we need loops and conditionals.\n",
    "\n",
    "# Start with an empty list:\n",
    "\n",
    "names =[]\n",
    "\n",
    "# And declare an empty string. We'll specify the condition that the empty strings value should not be ‘quit’:\n",
    "\n",
    "newname = ''  \n",
    "while newname !='quit':\n",
    "    newname = input('Whom else do you know? If none, enter \"quit\"')\n",
    "    if newname != 'quit': \n",
    "        names.append(newname) "
   ]
  },
  {
   "cell_type": "code",
   "execution_count": 13,
   "metadata": {},
   "outputs": [
    {
     "data": {
      "text/plain": [
       "['Rose', 'Will', 'John', 'Ugne']"
      ]
     },
     "execution_count": 13,
     "metadata": {},
     "output_type": "execute_result"
    }
   ],
   "source": [
    "# Now print out the variable 'names' to see what values where collected in code line[11]\n",
    "\n",
    "names"
   ]
  },
  {
   "cell_type": "markdown",
   "metadata": {},
   "source": [
    "<div class=\"alert-alert-block alert-danger\">\n",
    "    <h3>CHATBOTS</h3>\n",
    "</div>"
   ]
  },
  {
   "cell_type": "code",
   "execution_count": 14,
   "metadata": {},
   "outputs": [
    {
     "data": {
      "text/plain": [
       "{'Hello, machine!': 'Hi, human!', \"What's your name?\": \"I'm Z. And yours?\"}"
      ]
     },
     "execution_count": 14,
     "metadata": {},
     "output_type": "execute_result"
    }
   ],
   "source": [
    "# Let's create the variable called 'chat' and use Python dictionaries to define the content of that chat.\n",
    "\n",
    "chat = {  \n",
    "\"Hello, machine!\" : \"Hi, human!\",  \n",
    "\"What's your name?\" : \"I'm Z. And yours?\"  \n",
    "}\n",
    "\n",
    "chat"
   ]
  },
  {
   "cell_type": "code",
   "execution_count": 15,
   "metadata": {},
   "outputs": [
    {
     "data": {
      "text/plain": [
       "'Hi, human!'"
      ]
     },
     "execution_count": 15,
     "metadata": {},
     "output_type": "execute_result"
    }
   ],
   "source": [
    "# Python comes with many functions. These are built-in functions. \n",
    "# We already used functions written by others as part of libraries. Those were library functions, e.g. numpy has its own.\n",
    "# But we can also write our own functions, which are called user-defined functions. \n",
    "# To write a function, use the keyword def, give a name to your function-to-be and write statements in new indented lines.\n",
    "# The function name is always followed by parentheses() which can take or not arguments.\n",
    "\n",
    "def talk(message):\n",
    "    if message in chat:\n",
    "        return chat[message]\n",
    "\n",
    "talk(\"Hello, machine!\")"
   ]
  },
  {
   "cell_type": "code",
   "execution_count": 16,
   "metadata": {},
   "outputs": [],
   "source": [
    "# The message that you send to the machine should correspond to the keys in the dictionary called chat.\n",
    "# If not, the machine will remain silent, e.g. no response will follow to the question below\n",
    "\n",
    "talk(\"What's up bro?\")"
   ]
  },
  {
   "cell_type": "code",
   "execution_count": 17,
   "metadata": {},
   "outputs": [
    {
     "data": {
      "text/plain": [
       "\"I'm Z. And yours?\""
      ]
     },
     "execution_count": 17,
     "metadata": {},
     "output_type": "execute_result"
    }
   ],
   "source": [
    "talk(\"What's your name?\")"
   ]
  },
  {
   "cell_type": "markdown",
   "metadata": {},
   "source": [
    "__To make a small talk more responsive to the context and its nuances, we may add some placeholders to the chat dictionary.__"
   ]
  },
  {
   "cell_type": "code",
   "execution_count": 18,
   "metadata": {},
   "outputs": [],
   "source": [
    "# Instead of adding strings with ready-made details to our dictionaries, we may write template strings by using {}.\n",
    "\n",
    "# Let's add one more string to our dictionary and let's insert {} where we mean some color in the bot's response.\n",
    "\n",
    "chat = {  \n",
    "\"Hello, machine!\" : \"Hi, human!\",  \n",
    "\"What's your name?\" : \"I'm Z. And yours?\", \n",
    "\"What's your favorite color?\" : \"Oh, I do like {}!\"\n",
    "}\n",
    "\n",
    "# Let's now assign the value to the color variable\n",
    "\n",
    "color = \"orange\""
   ]
  },
  {
   "cell_type": "code",
   "execution_count": 19,
   "metadata": {},
   "outputs": [
    {
     "data": {
      "text/plain": [
       "'Oh, I do like orange!'"
      ]
     },
     "execution_count": 19,
     "metadata": {},
     "output_type": "execute_result"
    }
   ],
   "source": [
    "# Let's rewrite our function 'talk' by using format() to be able to insert variables in conversational strings\n",
    "\n",
    "def talk(message):\n",
    "    if message in chat:\n",
    "        return chat[message].format(color)\n",
    "\n",
    "talk(\"What's your favorite color?\")"
   ]
  },
  {
   "cell_type": "markdown",
   "metadata": {},
   "source": [
    "__To add more variety to our conversation with machines, we may use lists with multiple values in place of one one value in the dictionary.__"
   ]
  },
  {
   "cell_type": "code",
   "execution_count": 20,
   "metadata": {},
   "outputs": [],
   "source": [
    "# Let's now rewrite our dictionary to have one key and more than one answer in the value position by including them in a list\n",
    "chat = {\n",
    "\"Hello, machine!\" : [\n",
    "\"Hi, human!\", \n",
    "\"Hi there! What's up?\",\n",
    "\"Hello, why not?\",\n",
    "\"Hi, rude person! I'm not a machine!\"\n",
    "]   \n",
    "}"
   ]
  },
  {
   "cell_type": "code",
   "execution_count": 21,
   "metadata": {},
   "outputs": [
    {
     "name": "stdout",
     "output_type": "stream",
     "text": [
      "Hello, why not?\n",
      "Hi there! What's up?\n"
     ]
    }
   ],
   "source": [
    "# To randomize the bot's responses, let's import the random module and use its method random.choice().\n",
    "# ramdon.choice() will return random statements from the dictionary that you defined.\n",
    "\n",
    "import random\n",
    "\n",
    "# We'll need to write our own function by using the def statement.\n",
    "\n",
    "\n",
    "def talk(message):\n",
    "    if message in chat:\n",
    "        return random.choice(chat[message])\n",
    "\n",
    "print(talk(\"Hello, machine!\"))\n",
    "print(talk(\"Hello, machine!\"))"
   ]
  },
  {
   "cell_type": "markdown",
   "metadata": {},
   "source": [
    "__The bot we have just created has far more personality now than the initial one!__"
   ]
  },
  {
   "cell_type": "markdown",
   "metadata": {},
   "source": [
    "<div class=\"alert alert-block alert-success\">\n",
    "<h2>IMPORT PYTHON SCRIPTS AND MODULES</h2><br>\n",
    "</div>"
   ]
  },
  {
   "cell_type": "markdown",
   "metadata": {},
   "source": [
    "<div class=\"alert alert-success\" role=\"alert\">\n",
    "<h3><em>WRITE AND IMPORT SCRIPT</em></h3>\n",
    "<ul>\n",
    "<li>Now copy the code from the code line [11] and paste it in a new Text File that you will open in this programme.</li>\n",
    "<li>The new Text File will be automatically called 'Untitled.txt'. Rename it as 'newname.py'.</li>\n",
    "<li>Once the code is pasted, save your file by choosing 'Save As'. Give it a name 'newname.py' and save it as 'All Files'.</li>\n",
    "<li>Then import the script's programme in this cell with the command as below:</li>\n",
    "</ul>\n",
    "</div>"
   ]
  },
  {
   "cell_type": "code",
   "execution_count": 22,
   "metadata": {},
   "outputs": [
    {
     "name": "stdout",
     "output_type": "stream",
     "text": [
      "Whom else do you know? If none, enter \"quit\"Dennis\n",
      "Whom else do you know? If none, enter \"quit\"Sue\n",
      "Whom else do you know? If none, enter \"quit\"Avni\n",
      "Whom else do you know? If none, enter \"quit\"Titus\n",
      "Whom else do you know? If none, enter \"quit\"Horace\n",
      "Whom else do you know? If none, enter \"quit\"quit\n"
     ]
    }
   ],
   "source": [
    "# Scripts are run as follows:\n",
    "\n",
    "%run newname.py"
   ]
  },
  {
   "cell_type": "code",
   "execution_count": null,
   "metadata": {},
   "outputs": [],
   "source": [
    "# Modules are imported as follows:\n",
    "import newname\n",
    "\n",
    "# You should be able to play the name game now.\n",
    "# Note that you can also write Python scripts with Notepad (Windows) or TextEdit (Mac) and run them here in the same way."
   ]
  },
  {
   "cell_type": "markdown",
   "metadata": {
    "collapsed": true
   },
   "source": [
    "<div class=\"alert alert-success\" role=\"alert\">\n",
    "<h3><em>Exercise 1</em></h3>\n",
    "<ul>\n",
    "<li>Create an if statement that checks whether a number of friends(in the variable friends) is less than 10 or greater than 200. Your program should print the message “Too few or too many” if the condition is true.</li>\n",
    "</ul></div>"
   ]
  },
  {
   "cell_type": "markdown",
   "metadata": {},
   "source": [
    "<div class=\"alert alert-success\" role=\"alert\">\n",
    "<h3><em>Exercise 2</em></h3>\n",
    "<ul>\n",
    "<li>Create a list containing five different sandwich ingredients.</li>\n",
    "<li>Now create a loop that prints out the list (including the numbers marking the order of items), e.g.:.</li>\n",
    "<li>1 bread</li>\n",
    "<li>2 cheese</li>\n",
    "<li>and so on</li>\n",
    "</ul></div>"
   ]
  },
  {
   "cell_type": "markdown",
   "metadata": {},
   "source": [
    "<div class=\"alert alert-success\" role=\"alert\">\n",
    "<h3><em>Exercise 3</em></h3>\n",
    "<ul>\n",
    "    <li>Write a function that sums the list luckyNumber = [1,3,5,7,9]</li></ul></div>"
   ]
  },
  {
   "cell_type": "markdown",
   "metadata": {},
   "source": [
    "<div class=\"alert alert-success\" role=\"alert\">\n",
    "<h3><em>Exercise 4</em></h3>\n",
    "<ul>\n",
    "<li>Write a simple chatbot that interacts with users to find out what food they like.</li>\n",
    "</ul></div>"
   ]
  },
  {
   "cell_type": "markdown",
   "metadata": {},
   "source": [
    "<div style=\"background-color:#ccccff\">\n",
    "<br><h2>CONTINUE LEARNING</h2>\n",
    "<p>Alan Turing's seminal paper <a href=\"https://www.csee.umbc.edu/courses/471/papers/turing.pdf\" target=\"_blank\">'Computing Machinery and Intelligence'</a> (1950) entertains the question whether machines can think. The Turing Test involves a human interrogator speaking to a number of computers and humans through an interface. The Turing Test is considered to have been passed if the human speaker cannot distinguish between the computers and the humans. The movie that explores Turing's overarching question by blurring the lines between humanity and programming is <a href=\"https://www.imdb.com/title/tt0470752/\" target=\"_blank\"><i>Ex Machina</i></a> (2014).</p><br>\n",
    "<p>A number of museums use chatbots and AI to engage audiences:<p> \n",
    "<ul>\n",
    "<li><a href=\"https://www.hnf.de/en/home.html\" target=\"_blank\">The Heinz Nixdorf MuseumsForum</a>, the world's largest computer museum, in Paderborn Germany launched MAX in 2004 to act as a virtual museum guide.</li>\n",
    "<li><a href=\"https://www.cooperhewitt.org/\" target=\"_blank\">The Cooper-Hewitt Smithsonian Design Museum in New York</a> introduced Object Phone which is a service that visitors can access by texting or calling to get more information about the museum. In 2016 Object Phone became a <a href=\"http://objectphone.cooperhewitt.org/\" target=\"_blank\">subscription service</a>.</li>\n",
    "<li><a href=\"http://www.artmuseum.by/eng\" target=\"_blank\">The National Art Museum of the Republic of Belarus</a> also launched the <a href=\"https://chatfuel.com/bot/The-National-Art-Museum-of-the-Republic-of-Belarus-1904070043163955\" target=\"_blank\">Facebook Messenger chatbot</a> in 2017 to equip visitors with an interactive digital guide.</li>\n",
    "<li><a href=\"https://casemuseo.it/en/\" target=\"_blank\">The House Museums of Milan</a> use gamification in chatbot applications, which is not a widespread practice in museums yet.<a href=\"http://www.invisiblestudio.it/new/portfolio/chatbot-game/\"> The House Museums Chatbot</a> based on the Facebook Messenger draws users into a gaming activity of fighting a mysterious Renaissance magician (based on a real historical figure). The game makes users, mainly teenagers, engage further with the museum through conversation, observation, and exploration.The conference paper <a href=\"https://www.museumsandtheweb.com/mw2003/papers/gaia/gaia.html\" target=\"_blank\"> 'Make Your Museum Talk: Natural Language Interfaces For Cultural Institutions'</a> provides more details on the museum's case.</li>\n",
    "<li>There is a growing trend to build museum archive bots for Twitter. The <a href=\"https://twitter.com/museumbot?lang=en\" target=\"_blank\">Museumbot</a>, for example, pulls open access images from a number of archives such as the Metropolitan Museum of Art.</li>\n",
    "</ul><br>\n",
    "<p>More online tutorials on how to build chatbots:</p>\n",
    "<ul><li><a href=\"https://medium.com/analytics-vidhya/building-a-simple-chatbot-in-python-using-nltk-7c8c8215ac6e\" target=\"_blank\">Building a Simple Chatbot</a> by Parul Pandy</li>\n",
    "<li>DataCamp course <a href=\"https://www.datacamp.com/courses/building-chatbots-in-python\" target=\"_blank\">Building Chatbots in Python</a></li>\n",
    "<li><a href=\"https://medium.freecodecamp.org/you-dont-needs-chatbot-creation-tools-let-s-build-a-messenger-bot-from-scratch-8fcbb40f073b\">Building a Messenger Bot Scratch</a>by Daoud Clarke</li>\n",
    "</ul>\n",
    "</div>"
   ]
  }
 ],
 "metadata": {
  "kernelspec": {
   "display_name": "Python 3",
   "language": "python",
   "name": "python3"
  },
  "language_info": {
   "codemirror_mode": {
    "name": "ipython",
    "version": 3
   },
   "file_extension": ".py",
   "mimetype": "text/x-python",
   "name": "python",
   "nbconvert_exporter": "python",
   "pygments_lexer": "ipython3",
   "version": "3.7.3"
  }
 },
 "nbformat": 4,
 "nbformat_minor": 2
}
