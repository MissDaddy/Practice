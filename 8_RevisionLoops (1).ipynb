{
 "cells": [
  {
   "cell_type": "code",
   "execution_count": 1,
   "metadata": {},
   "outputs": [
    {
     "data": {
      "text/plain": [
       "(0.00,0.00)"
      ]
     },
     "execution_count": 1,
     "metadata": {},
     "output_type": "execute_result"
    }
   ],
   "source": [
    "# import turtle under alias trl\n",
    "# it's a graphics programme that allows you to draw and learn programming concepts while drawing\n",
    "\n",
    "import turtle as trl\n",
    "\n",
    "# check the position of the turtle with pos()\n",
    "\n",
    "trl.pos()\n",
    "\n",
    "# the turtle starting point is located at the center of the canvas"
   ]
  },
  {
   "cell_type": "markdown",
   "metadata": {},
   "source": [
    "<div class=\"alert-alert-block alert-danger\"><h2>The coordinates of the turtle canvas</h2><br>\n",
    "\n",
    "![title](canvas.jpg)\n",
    "</div>"
   ]
  },
  {
   "cell_type": "code",
   "execution_count": 2,
   "metadata": {},
   "outputs": [],
   "source": [
    "# you can set the turtle forward to a positive or negative number \n",
    "# this will affect the direction of moving along the x axis.\n",
    "\n",
    "# check out\n",
    "\n",
    "trl.forward(20)\n",
    "trl.forward(-180)"
   ]
  },
  {
   "cell_type": "code",
   "execution_count": 3,
   "metadata": {},
   "outputs": [],
   "source": [
    "# Let's draw a square\n",
    "\n",
    "trl.forward(100) # the forward method takes pixels\n",
    "trl.left(90) # the left and right methods take angles\n",
    "trl.forward(100)\n",
    "trl.left(90)\n",
    "trl.forward(100)\n",
    "trl.left(90)\n",
    "trl.forward(100)"
   ]
  },
  {
   "cell_type": "code",
   "execution_count": 4,
   "metadata": {},
   "outputs": [],
   "source": [
    "# to start fresh type the following\n",
    "\n",
    "trl.reset()\n",
    "\n",
    "# draw an equilateral triangle = the one that has all three sides of equal length\n",
    "\n",
    "# what will you start with?\n",
    "\n",
    "trl.forward(200)\n",
    "trl.left(120)\n",
    "trl.forward(200)\n",
    "trl.left(120)\n",
    "trl.forward(200)"
   ]
  },
  {
   "cell_type": "code",
   "execution_count": 5,
   "metadata": {},
   "outputs": [],
   "source": [
    "# drawing shows how procedural coding is\n",
    "# when procedures are repetitive, we can compress them by using loops\n",
    "\n",
    "trl.reset()\n",
    "\n",
    "# let's write a loop for drawing a square\n",
    "\n",
    "for x in range(4):\n",
    "    trl.forward(200)\n",
    "    trl.left(90)\n",
    "    "
   ]
  },
  {
   "cell_type": "markdown",
   "metadata": {},
   "source": [
    "<div class=\"alert alert-block alert-success\">\n",
    "<h2> Over to You 1</h2>\n",
    "<p>\n",
    "Write a loop to draw a shape other than square, triangle or hexagon.\n",
    "</p>\n",
    "</div>"
   ]
  },
  {
   "cell_type": "code",
   "execution_count": 6,
   "metadata": {},
   "outputs": [],
   "source": [
    "trl.reset()\n",
    "\n",
    "# let's write a function that draws a hexagon by calling its name\n",
    "# hexagon = a figure with 6 equal sides\n",
    "\n",
    "def hexagon():\n",
    "    for x in range(6):\n",
    "        trl.forward(100)\n",
    "        trl.left(60)\n",
    "\n",
    "hexagon()"
   ]
  },
  {
   "cell_type": "code",
   "execution_count": 7,
   "metadata": {},
   "outputs": [],
   "source": [
    "# now let's draw a honeycomb that would consist of 6 more hexagons built around the existing hexagon\n",
    "# we'll achieve that by looping our hexagon()function 6 times\n",
    "\n",
    "for x in range (6):\n",
    "    hexagon()\n",
    "    trl.forward(100)\n",
    "    trl.right(60)\n"
   ]
  },
  {
   "cell_type": "markdown",
   "metadata": {},
   "source": [
    "<div class=\"alert alert-block alert-success\">\n",
    "<h2> Over to You 2</h2>\n",
    "<p>\n",
    "Write the function called 'my_shape' that draws a shape other than a square, triangle or hexagon.\n",
    "</p>\n",
    "<p>\n",
    "Then write the for loop statement that loops the my_shape function a number of times (your choice how many times). \n",
    "</p>\n",
    "</div>"
   ]
  },
  {
   "cell_type": "code",
   "execution_count": 8,
   "metadata": {},
   "outputs": [],
   "source": [
    "trl.reset()\n",
    "\n",
    "# let's draw a spiral by using conditional loops\n",
    "# conditional loops = are way to repeat something while a certain condition is satisfied, or True\n",
    "\n",
    "# write a while loop with a condition that is always True to draw a spiral\n",
    "# remember that while True creates an endless loop? \n",
    "# endless loops are most often used in games or applications \n",
    "# to stop the loop, create a condition that triggers a break from the loop\n",
    "\n",
    "# in our case, we'll break the loop when the turtle reaches a certain distance from the center \n",
    "# use the function trl.distance(x, y) to get the turtle’s distance to the point defined by the coordinates x and y\n",
    "# to do this use the trl.xcor() and trl.ycor(), which return the turtle's position in X and Y axes respectively\n",
    "# trl.distance() checks if the distance of the turtle is from its origin is greater than radius\n",
    "\n",
    "def draw_spiral(radius):\n",
    "    x = trl.xcor()\n",
    "    y = trl.ycor()\n",
    "    speed = 1\n",
    "    while True:\n",
    "        trl.forward(speed)\n",
    "        trl.left(10)\n",
    "        speed += 0.1\n",
    "        if trl.distance(x, y) > radius:\n",
    "            break\n",
    "\n",
    "# loops can be interrupted with the break statement\n",
    "\n",
    "# What do we do next? Call the function and pass the argument radius set at the value you want\n",
    "\n",
    "draw_spiral(radius=200)"
   ]
  },
  {
   "cell_type": "code",
   "execution_count": 9,
   "metadata": {},
   "outputs": [
    {
     "data": {
      "text/plain": [
       "(158.16,122.42)"
      ]
     },
     "execution_count": 9,
     "metadata": {},
     "output_type": "execute_result"
    }
   ],
   "source": [
    "# Let's draw a more complex shape that requires moving forwards and backwards at certain angles\n",
    "\n",
    "# but first get familiar with the pos() function\n",
    "\n",
    "# pos() returns the position of the turtle as a 2-element list \n",
    "\n",
    "# by default, the original position of the turtle is in the middle of the window which starts at 0\n",
    "\n",
    "# but the position changes as we keep drawing\n",
    "\n",
    "trl.pos()"
   ]
  },
  {
   "cell_type": "code",
   "execution_count": 10,
   "metadata": {},
   "outputs": [
    {
     "data": {
      "text/plain": [
       "(93.88,199.02)"
      ]
     },
     "execution_count": 10,
     "metadata": {},
     "output_type": "execute_result"
    }
   ],
   "source": [
    "# let's move forward 100 pixels and then check the turtle's position\n",
    "\n",
    "trl.forward(100)\n",
    "trl.pos()\n"
   ]
  },
  {
   "cell_type": "code",
   "execution_count": 11,
   "metadata": {},
   "outputs": [
    {
     "ename": "Terminator",
     "evalue": "",
     "output_type": "error",
     "traceback": [
      "\u001b[1;31m---------------------------------------------------------------------------\u001b[0m",
      "\u001b[1;31mTerminator\u001b[0m                                Traceback (most recent call last)",
      "\u001b[1;32m<ipython-input-11-ca47ce7164bd>\u001b[0m in \u001b[0;36m<module>\u001b[1;34m\u001b[0m\n\u001b[0;32m     18\u001b[0m \u001b[1;33m\u001b[0m\u001b[0m\n\u001b[0;32m     19\u001b[0m \u001b[1;33m\u001b[0m\u001b[0m\n\u001b[1;32m---> 20\u001b[1;33m \u001b[0mtrl\u001b[0m\u001b[1;33m.\u001b[0m\u001b[0mreset\u001b[0m\u001b[1;33m(\u001b[0m\u001b[1;33m)\u001b[0m\u001b[1;33m\u001b[0m\u001b[1;33m\u001b[0m\u001b[0m\n\u001b[0m\u001b[0;32m     21\u001b[0m \u001b[1;33m\u001b[0m\u001b[0m\n\u001b[0;32m     22\u001b[0m \u001b[1;31m# abs() returns the absolute value of a number.\u001b[0m\u001b[1;33m\u001b[0m\u001b[1;33m\u001b[0m\u001b[1;33m\u001b[0m\u001b[0m\n",
      "\u001b[1;32m~\\Anaconda3\\lib\\turtle.py\u001b[0m in \u001b[0;36mreset\u001b[1;34m()\u001b[0m\n",
      "\u001b[1;31mTerminator\u001b[0m: "
     ]
    }
   ],
   "source": [
    "trl.reset()\n",
    "\n",
    "# now let's draw a colourful star shape with an endless loop and break it with a conditional statement\n",
    "\n",
    "# import everything from turtle to access colours and colour-related functions\n",
    "\n",
    "from turtle import *\n",
    "\n",
    "color('red', 'yellow')\n",
    "begin_fill()\n",
    "while True:\n",
    "    trl.forward(250)\n",
    "    trl.left(170)\n",
    "    if abs(pos()) < 1:\n",
    "        break\n",
    "end_fill()\n",
    "done()\n",
    "\n",
    "\n",
    "trl.reset()\n",
    "\n",
    "# abs() returns the absolute value of a number. \n",
    "# In other words, it converts a negative number into a positive and a positive number remains unchanged"
   ]
  },
  {
   "cell_type": "code",
   "execution_count": null,
   "metadata": {},
   "outputs": [],
   "source": [
    "trl.pos()"
   ]
  },
  {
   "cell_type": "markdown",
   "metadata": {},
   "source": [
    "<div class=\"alert alert-block alert-success\">\n",
    "<h2> Over to You 3</h2>\n",
    "<p>Draw a color filled star as shown in the picture below. Use the for loop to reduce the iterative procedure.</p>\n",
    "    \n",
    "![title](star.jpg)\n",
    "</div>"
   ]
  }
 ],
 "metadata": {
  "kernelspec": {
   "display_name": "Python 3",
   "language": "python",
   "name": "python3"
  },
  "language_info": {
   "codemirror_mode": {
    "name": "ipython",
    "version": 3
   },
   "file_extension": ".py",
   "mimetype": "text/x-python",
   "name": "python",
   "nbconvert_exporter": "python",
   "pygments_lexer": "ipython3",
   "version": "3.7.3"
  }
 },
 "nbformat": 4,
 "nbformat_minor": 2
}
