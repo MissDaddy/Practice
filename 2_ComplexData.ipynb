{
 "cells": [
  {
   "cell_type": "markdown",
   "metadata": {},
   "source": [
    "<div class=\"alert alert-block alert-info\">\n",
    "<h2> 2. Complex Data Types (Lists, Tuples, & Dictionaries) & Stat Modelling with NumPy</h2><br>\n",
    "\n",
    "</div>"
   ]
  },
  {
   "cell_type": "markdown",
   "metadata": {},
   "source": [
    "<div class=\"alert alert-block alert-info\">\n",
    "<h2> Lists and Tuples</h2><br>\n",
    "<p>Both lists and tuples are collections of data values. The major difference between the two is that lists are changeable, while tuples cannot be mutated. Tuples are like read-only data.</p><br>\n",
    "\n",
    "<p><b>Syntax of lists</b>: values are entered into square brackets [ ]. String values are entered with quotes, while numeric values do not need quotes.</p>  \n",
    "<p>\n",
    "__Example__:   \n",
    "myList = ['heavy metal', 'Germany', 'jazz', -50]</p><br>\n",
    "<p><b>Syntax of tuples</b>: values are entered into parentheses ( ). </p><br>\n",
    "<p>\n",
    "__Example__:   \n",
    "myTuple = ('heavy metal', 'Germany', 'jazz', -50)</p>\n",
    "</div>"
   ]
  },
  {
   "cell_type": "code",
   "execution_count": 1,
   "metadata": {},
   "outputs": [
    {
     "data": {
      "text/plain": [
       "['electronic', 'hip-hop', 'indie music', 1999]"
      ]
     },
     "execution_count": 1,
     "metadata": {},
     "output_type": "execute_result"
    }
   ],
   "source": [
    "# Let's create the musicList variable to store data on the dominating music genres of some festival in 1999.\n",
    "# Assign real data about Coachella(https://www.billboard.com/articles/columns/music-festivals/6538604/coachella-history-genre-by-year).\n",
    "\n",
    "musicList = ['electronic', 'hip-hop', 'indie music', 1999]\n",
    "musicList"
   ]
  },
  {
   "cell_type": "code",
   "execution_count": 2,
   "metadata": {},
   "outputs": [
    {
     "data": {
      "text/plain": [
       "('electronic', 'hip-hop', 'indie music', 1999)"
      ]
     },
     "execution_count": 2,
     "metadata": {},
     "output_type": "execute_result"
    }
   ],
   "source": [
    "# Lists can be expanded and changed, while tuples cannot.\n",
    "# Let's create a tuple variable with the same values as myList first.\n",
    "\n",
    "myTuple = ('electronic', 'hip-hop', 'indie music', 1999)\n",
    "myTuple"
   ]
  },
  {
   "cell_type": "code",
   "execution_count": 3,
   "metadata": {},
   "outputs": [
    {
     "name": "stdout",
     "output_type": "stream",
     "text": [
      "['electronic', 'hip-hop', 'indie music', 1999, 'alternative']\n"
     ]
    },
    {
     "ename": "AttributeError",
     "evalue": "'tuple' object has no attribute 'append'",
     "output_type": "error",
     "traceback": [
      "\u001b[1;31m---------------------------------------------------------------------------\u001b[0m",
      "\u001b[1;31mAttributeError\u001b[0m                            Traceback (most recent call last)",
      "\u001b[1;32m<ipython-input-3-79032d19dd32>\u001b[0m in \u001b[0;36m<module>\u001b[1;34m\u001b[0m\n\u001b[0;32m      5\u001b[0m \u001b[0mprint\u001b[0m\u001b[1;33m(\u001b[0m\u001b[0mmusicList\u001b[0m\u001b[1;33m)\u001b[0m\u001b[1;33m\u001b[0m\u001b[1;33m\u001b[0m\u001b[0m\n\u001b[0;32m      6\u001b[0m \u001b[1;33m\u001b[0m\u001b[0m\n\u001b[1;32m----> 7\u001b[1;33m \u001b[0mmyTuple\u001b[0m\u001b[1;33m.\u001b[0m\u001b[0mappend\u001b[0m\u001b[1;33m(\u001b[0m\u001b[1;34m'alternative'\u001b[0m\u001b[1;33m)\u001b[0m\u001b[1;33m\u001b[0m\u001b[1;33m\u001b[0m\u001b[0m\n\u001b[0m\u001b[0;32m      8\u001b[0m \u001b[0mprint\u001b[0m\u001b[1;33m(\u001b[0m\u001b[0mmyTuple\u001b[0m\u001b[1;33m)\u001b[0m\u001b[1;33m\u001b[0m\u001b[1;33m\u001b[0m\u001b[0m\n\u001b[0;32m      9\u001b[0m \u001b[1;33m\u001b[0m\u001b[0m\n",
      "\u001b[1;31mAttributeError\u001b[0m: 'tuple' object has no attribute 'append'"
     ]
    }
   ],
   "source": [
    "# Data values in myTuple are the same as in a list, but the data container is essentially different.\n",
    "# You can test how they differ by trying to manipulate any of these data types with the list method - that is, append().\n",
    "\n",
    "musicList.append('alternative')\n",
    "print(musicList)\n",
    "\n",
    "myTuple.append('alternative')\n",
    "print(myTuple)\n",
    "\n",
    "# The output gives the result for expanded myList, but it throws an error for myTuple because tuples cannot be mutated."
   ]
  },
  {
   "cell_type": "code",
   "execution_count": 4,
   "metadata": {},
   "outputs": [
    {
     "data": {
      "text/plain": [
       "5"
      ]
     },
     "execution_count": 4,
     "metadata": {},
     "output_type": "execute_result"
    }
   ],
   "source": [
    "# You can count how many items a list (and a tuple) contains with len(). \n",
    "\n",
    "len(musicList)"
   ]
  },
  {
   "cell_type": "code",
   "execution_count": 5,
   "metadata": {},
   "outputs": [
    {
     "name": "stdout",
     "output_type": "stream",
     "text": [
      "electronic\n",
      "hip-hop\n"
     ]
    }
   ],
   "source": [
    "# You can check what data item sits in a sequence by its index position. See more on index position in Lesson 1.\n",
    "# Remember that index position starts from 0, NOT from 1. This means that the 1st item in a list sits in 0 position.\n",
    "# The 1st item in 0 position in musicList is 'electronic', but the 2nd item 'hip-hop' is in 1 position: \n",
    "\n",
    "print(musicList[0])\n",
    "print(musicList[1])"
   ]
  },
  {
   "cell_type": "code",
   "execution_count": 6,
   "metadata": {},
   "outputs": [
    {
     "data": {
      "text/plain": [
       "['electronic', 'hip-hop', 'indie music', 1999, 2000, 'alternative']"
      ]
     },
     "execution_count": 6,
     "metadata": {},
     "output_type": "execute_result"
    }
   ],
   "source": [
    "# You may expand your lists by inserting new value at the exact position that you want with insert().\n",
    "# Let's insert the numeric value of 2000 at the end of the list to add another year of the festival.\n",
    "\n",
    "musicList.insert(4, 2000)\n",
    "musicList"
   ]
  },
  {
   "cell_type": "code",
   "execution_count": 7,
   "metadata": {},
   "outputs": [
    {
     "name": "stdout",
     "output_type": "stream",
     "text": [
      "I love electronic\n",
      "I love hip-hop\n",
      "I love indie music\n",
      "I love 1999\n",
      "I love 2000\n",
      "I love alternative\n"
     ]
    }
   ],
   "source": [
    "# We will learn more about loops next week. But let's start by getting some flavour of what loops can do.\n",
    "# Let's say we want to print out every data item in a list without referring to each of them by index position.\n",
    "# Iterate over each item in the musicList and print each item with the phrase 'I love' before that item.\n",
    "\n",
    "for x in musicList:     \n",
    "    print(\"I love\", x)\n",
    "    \n",
    "    \n",
    "# x is an arbitrary reference to each item in a defined list. \n",
    "# Instead of 'x', you may use any character or word or phrase to run loops, but keep it simple and short."
   ]
  },
  {
   "cell_type": "code",
   "execution_count": 8,
   "metadata": {},
   "outputs": [
    {
     "name": "stdout",
     "output_type": "stream",
     "text": [
      "I love ['electronic', 'hip-hop', 'indie music', 1999, 2000, 'alternative']\n"
     ]
    }
   ],
   "source": [
    "# If you do not loop through the list and print out the phrase 'I love' with the whole musicList, you get the following\n",
    "\n",
    "print(\"I love\", musicList)"
   ]
  },
  {
   "cell_type": "markdown",
   "metadata": {},
   "source": [
    "<div class=\"alert alert-block alert-info\">\n",
    "<h2> Dictionaries</h2><br>\n",
    "<p>Dictionaries consist of keys and values. Think of dictionaries as pro-table format where keys are as if headings and values are as if information points under those headings. Keys are unique, but the values assigned to one key can be many.</p><br> \n",
    "\n",
    "<p><b>Syntax of dictionaries</b>: keys and values are entered into curly brackets { } with the colon : separating them</p>  \n",
    "\n",
    "__Example__:   \n",
    "Castle_Repository = {'France': 6500, 'Germany': 25000, 'Wales': 33}\n",
    "</div>"
   ]
  },
  {
   "cell_type": "code",
   "execution_count": 9,
   "metadata": {},
   "outputs": [
    {
     "data": {
      "text/plain": [
       "{'Tom': 'heavy metal', 'Lilly': 'punk rock', 'Avni': 'classical music'}"
      ]
     },
     "execution_count": 9,
     "metadata": {},
     "output_type": "execute_result"
    }
   ],
   "source": [
    "musicDict = {'Tom': 'heavy metal', 'Lilly': 'punk rock', 'Avni': 'classical music'}\n",
    "musicDict"
   ]
  },
  {
   "cell_type": "code",
   "execution_count": 10,
   "metadata": {},
   "outputs": [
    {
     "data": {
      "text/plain": [
       "{1: 'green', 2: 'yellow', 3: 'skyblue'}"
      ]
     },
     "execution_count": 10,
     "metadata": {},
     "output_type": "execute_result"
    }
   ],
   "source": [
    "#Both keys and values could be numeric or textual.\n",
    "\n",
    "colorDict = {1: 'green', 2: 'yellow', 3: 'skyblue'}\n",
    "colorDict"
   ]
  },
  {
   "cell_type": "code",
   "execution_count": 11,
   "metadata": {},
   "outputs": [
    {
     "name": "stdout",
     "output_type": "stream",
     "text": [
      "classical music\n",
      "green\n"
     ]
    }
   ],
   "source": [
    "# You can query dictionaries by keys to find the values assigned to a specific key.\n",
    "\n",
    "print(musicDict['Avni'])\n",
    "print(colorDict[1])\n",
    "\n",
    "# If you want to see the output of both variables in this case, use the function print(). \n",
    "# Otherwise, only the last variable in the code cell - that is, colorDict[1] - will be output here."
   ]
  },
  {
   "cell_type": "code",
   "execution_count": 12,
   "metadata": {},
   "outputs": [
    {
     "name": "stdout",
     "output_type": "stream",
     "text": [
      "{1: 'green', 2: 'yellow', 3: 'skyblue'}\n",
      "{1: 'red', 2: 'yellow', 3: 'skyblue'}\n"
     ]
    }
   ],
   "source": [
    "# Like lists, dictionaries are mutable. This means that we can modify them.\n",
    "# We can update their values, for example:\n",
    "\n",
    "colorDict = {1: 'green', 2: 'yellow', 3: 'skyblue'}\n",
    "print(colorDict)\n",
    "\n",
    "colorDict[1]='red'\n",
    "print(colorDict)"
   ]
  },
  {
   "cell_type": "code",
   "execution_count": 13,
   "metadata": {},
   "outputs": [
    {
     "name": "stdout",
     "output_type": "stream",
     "text": [
      "{1: 'red', 3: 'skyblue'}\n",
      "{'Tom': 'heavy metal', 'Avni': 'classical music'}\n"
     ]
    }
   ],
   "source": [
    "# We can delete the key-value pairs of our choosing by specifying the key:\n",
    "\n",
    "del colorDict[2]\n",
    "print(colorDict)\n",
    "\n",
    "# OR by specifying the value:\n",
    "\n",
    "del musicDict['Lilly']\n",
    "print(musicDict)"
   ]
  },
  {
   "cell_type": "code",
   "execution_count": 14,
   "metadata": {},
   "outputs": [
    {
     "data": {
      "text/plain": [
       "2"
      ]
     },
     "execution_count": 14,
     "metadata": {},
     "output_type": "execute_result"
    }
   ],
   "source": [
    "# We've been modifying our dictionaries a bit, so let's check how many items are left in musicDict after all.\n",
    "\n",
    "len(musicDict)"
   ]
  },
  {
   "cell_type": "code",
   "execution_count": 15,
   "metadata": {},
   "outputs": [
    {
     "data": {
      "text/plain": [
       "{'Tom': 'heavy metal', 'Avni': 'classical music', 'Ugne': 'jazz'}"
      ]
     },
     "execution_count": 15,
     "metadata": {},
     "output_type": "execute_result"
    }
   ],
   "source": [
    "# Let's add new data to musicDict. The way is the same as updating dictionaries. \n",
    "# If the key exists, the value will be update; if the key is new, the value will be added\n",
    "\n",
    "musicDict['Ugne'] = 'jazz'\n",
    "musicDict"
   ]
  },
  {
   "cell_type": "code",
   "execution_count": 16,
   "metadata": {},
   "outputs": [
    {
     "data": {
      "text/plain": [
       "'classical music'"
      ]
     },
     "execution_count": 16,
     "metadata": {},
     "output_type": "execute_result"
    }
   ],
   "source": [
    "# Dictionaries have their methods, e.g. get().\n",
    "# Methods are functions that go together with specific objects. Think of methods as verbs that tell us what objects do.\n",
    "# Let's use our first dictionary created in this tutorial - that is, musicDict.\n",
    "# Like any Python dictionary, musicDict can get us values by their corresponding keys.\n",
    "\n",
    "musicDict.get('Avni')"
   ]
  },
  {
   "cell_type": "code",
   "execution_count": 17,
   "metadata": {},
   "outputs": [
    {
     "name": "stdout",
     "output_type": "stream",
     "text": [
      "{1: 'red', 2: 'yellow', 3: 'blue'}\n",
      "{4: 'orange', 5: 'green', 6: 'purple'}\n"
     ]
    }
   ],
   "source": [
    "# Dictionaries can be merged. First, let's create two variables that contain dictionaries.\n",
    "\n",
    "primaryColors = {1: 'red', 2: 'yellow', 3: 'blue'}\n",
    "print(primaryColors)\n",
    "\n",
    "secondaryColors = {4: 'orange', 5: 'green', 6: 'purple'}\n",
    "print(secondaryColors)"
   ]
  },
  {
   "cell_type": "code",
   "execution_count": 18,
   "metadata": {},
   "outputs": [
    {
     "data": {
      "text/plain": [
       "{1: 'red', 2: 'yellow', 3: 'blue', 4: 'orange', 5: 'green', 6: 'purple'}"
      ]
     },
     "execution_count": 18,
     "metadata": {},
     "output_type": "execute_result"
    }
   ],
   "source": [
    "# Let's merge primaryColors with secondaryColors.\n",
    "\n",
    "allColors = {**primaryColors, **secondaryColors}\n",
    "allColors"
   ]
  },
  {
   "cell_type": "code",
   "execution_count": 19,
   "metadata": {},
   "outputs": [
    {
     "name": "stdout",
     "output_type": "stream",
     "text": [
      "green\n"
     ]
    }
   ],
   "source": [
    "# The dictionary method get() is a quick way to search a dictionary by keys to retrieve their values.\n",
    "\n",
    "print(allColors.get(5))\n",
    "\n",
    "# Note that the numeric keys here are not the same as index position used to search lists.\n",
    "\n",
    "# Try it out by entering other keys."
   ]
  },
  {
   "cell_type": "markdown",
   "metadata": {},
   "source": [
    "<div class=\"alert alert-block alert-info\">\n",
    "<h2>NumPy Arrays</h2>\n",
    "<ul>\n",
    "<li>Now let's explore how dictionaries can be useful in statistical modelling and data manipulation.</li>\n",
    "<li>Python does not have built-in support for arrays. Instead, it offers you to work with lists. Yet lists are limited.</li>\n",
    "<li>Arrays and lists share some similarities, but the difference between the two is key to what you can do to data.</li>\n",
    "<li>On the similarity side, arrays and lists can both 1) store data; 2) store any type of data (numbers, characters etc); 3)be indexed and iterated through.</li>\n",
    "<li>However, they do not serve the same purpose. NumPy arrays are the most important data type for arithmetic data manipulation, while most of arithmetic manipualtion cannot be performed on lists as you can see below.</li>\n",
    "</ul>\n",
    "</div>"
   ]
  },
  {
   "cell_type": "code",
   "execution_count": 20,
   "metadata": {},
   "outputs": [
    {
     "data": {
      "text/plain": [
       "[4, 8, 12]"
      ]
     },
     "execution_count": 20,
     "metadata": {},
     "output_type": "execute_result"
    }
   ],
   "source": [
    "# Lists do not have to be declared. It's enough to create a variable by using list syntax and assingning values.\n",
    "\n",
    "myList = [4, 8, 12]\n",
    "myList"
   ]
  },
  {
   "cell_type": "code",
   "execution_count": 21,
   "metadata": {},
   "outputs": [
    {
     "ename": "TypeError",
     "evalue": "unsupported operand type(s) for /: 'list' and 'int'",
     "output_type": "error",
     "traceback": [
      "\u001b[1;31m---------------------------------------------------------------------------\u001b[0m",
      "\u001b[1;31mTypeError\u001b[0m                                 Traceback (most recent call last)",
      "\u001b[1;32m<ipython-input-21-8b96d00f8dba>\u001b[0m in \u001b[0;36m<module>\u001b[1;34m\u001b[0m\n\u001b[0;32m      1\u001b[0m \u001b[1;31m# But see what happens when you try to perform some math, e.g. divide each value by 2\u001b[0m\u001b[1;33m\u001b[0m\u001b[1;33m\u001b[0m\u001b[1;33m\u001b[0m\u001b[0m\n\u001b[0;32m      2\u001b[0m \u001b[1;33m\u001b[0m\u001b[0m\n\u001b[1;32m----> 3\u001b[1;33m \u001b[0mmyList\u001b[0m \u001b[1;33m=\u001b[0m \u001b[0mmyList\u001b[0m\u001b[1;33m/\u001b[0m\u001b[1;36m2\u001b[0m\u001b[1;33m\u001b[0m\u001b[1;33m\u001b[0m\u001b[0m\n\u001b[0m\u001b[0;32m      4\u001b[0m \u001b[0mprint\u001b[0m\u001b[1;33m(\u001b[0m\u001b[0mmyList\u001b[0m\u001b[1;33m)\u001b[0m\u001b[1;33m\u001b[0m\u001b[1;33m\u001b[0m\u001b[0m\n",
      "\u001b[1;31mTypeError\u001b[0m: unsupported operand type(s) for /: 'list' and 'int'"
     ]
    }
   ],
   "source": [
    "# But see what happens when you try to perform some math, e.g. divide each value by 2\n",
    "\n",
    "myList = myList/2\n",
    "print(myList)"
   ]
  },
  {
   "cell_type": "code",
   "execution_count": 22,
   "metadata": {},
   "outputs": [
    {
     "data": {
      "text/plain": [
       "array([ 4,  8, 12])"
      ]
     },
     "execution_count": 22,
     "metadata": {},
     "output_type": "execute_result"
    }
   ],
   "source": [
    "# That's right, the code throws an error!\n",
    "# Unlike lists, NumPy arrays have to be declared by using the keyword 'array'. \n",
    "# Array syntax requires that you put lists in parenthesis.\n",
    "# Let's take the values of myList and create an array, but first import the numpy package to use the functionality of arrays. \n",
    "# Use the shorthand 'np' to make it quicker to use the methods specific to numpy.\n",
    "\n",
    "import numpy as np\n",
    "myArray = np.array([4, 8, 12])\n",
    "myArray"
   ]
  },
  {
   "cell_type": "code",
   "execution_count": 23,
   "metadata": {},
   "outputs": [
    {
     "name": "stdout",
     "output_type": "stream",
     "text": [
      "[2. 4. 6.]\n"
     ]
    }
   ],
   "source": [
    "# Now let's try to perform the same division as we tried to do it with myList\n",
    "\n",
    "myArray = myArray/2\n",
    "print(myArray)"
   ]
  },
  {
   "cell_type": "code",
   "execution_count": 24,
   "metadata": {},
   "outputs": [
    {
     "data": {
      "text/plain": [
       "([4, 8, 12, 16, 20, 2, 50], [5, 7, 30, 4, 1, 15, 100])"
      ]
     },
     "execution_count": 24,
     "metadata": {},
     "output_type": "execute_result"
    }
   ],
   "source": [
    "# myArray above is an example of 1-dimensional array.\n",
    "# The beauty with Numpy arrays is that we can create two- and multi-dimensional arrays to work with more complex data.\n",
    "# We can put together two lists to create 2-dimentional array, for example:\n",
    "\n",
    "myNewArray = ([4, 8, 12, 16, 20, 2, 50], [5, 7, 30, 4, 1, 15, 100])\n",
    "myNewArray\n",
    "\n",
    "# Think of it as a table with two rows of values"
   ]
  },
  {
   "cell_type": "markdown",
   "metadata": {},
   "source": [
    "<img src=\"array.JPG\">"
   ]
  },
  {
   "cell_type": "code",
   "execution_count": 25,
   "metadata": {},
   "outputs": [
    {
     "data": {
      "text/plain": [
       "19.571428571428573"
      ]
     },
     "execution_count": 25,
     "metadata": {},
     "output_type": "execute_result"
    }
   ],
   "source": [
    "# We can calculate the mean of values contained in a numpy array.\n",
    "\n",
    "np.mean(myNewArray)"
   ]
  },
  {
   "cell_type": "code",
   "execution_count": 26,
   "metadata": {},
   "outputs": [
    {
     "data": {
      "text/plain": [
       "1"
      ]
     },
     "execution_count": 26,
     "metadata": {},
     "output_type": "execute_result"
    }
   ],
   "source": [
    "# We can search for the smallest value in an array.\n",
    "\n",
    "np.min(myNewArray)"
   ]
  },
  {
   "cell_type": "code",
   "execution_count": 27,
   "metadata": {},
   "outputs": [
    {
     "data": {
      "text/plain": [
       "100"
      ]
     },
     "execution_count": 27,
     "metadata": {},
     "output_type": "execute_result"
    }
   ],
   "source": [
    "# We can identify the biggest value, no matter how big is our data.\n",
    "\n",
    "np.max(myNewArray)"
   ]
  },
  {
   "cell_type": "code",
   "execution_count": 28,
   "metadata": {},
   "outputs": [
    {
     "data": {
      "text/plain": [
       "array([2, 1])"
      ]
     },
     "execution_count": 28,
     "metadata": {},
     "output_type": "execute_result"
    }
   ],
   "source": [
    "# If axis is set to 1, it will return values by row.\n",
    "# Thus we can pick up the lowest values in each row of our 2-dimensional array.\n",
    "\n",
    "np.min(myNewArray, axis=1)"
   ]
  },
  {
   "cell_type": "markdown",
   "metadata": {},
   "source": [
    "<img src=\"arrayTwo.JPG\">"
   ]
  },
  {
   "cell_type": "code",
   "execution_count": 29,
   "metadata": {},
   "outputs": [
    {
     "data": {
      "text/plain": [
       "array([ 4,  7, 12,  4,  1,  2, 50])"
      ]
     },
     "execution_count": 29,
     "metadata": {},
     "output_type": "execute_result"
    }
   ],
   "source": [
    "# If axis is set to 1, it will return values by column.\n",
    "# The code below will return the smallest values found in each column.\n",
    "\n",
    "np.min(myNewArray, axis=0)"
   ]
  },
  {
   "cell_type": "markdown",
   "metadata": {},
   "source": [
    "<img src=\"arrayThree.JPG\">"
   ]
  },
  {
   "cell_type": "code",
   "execution_count": 30,
   "metadata": {},
   "outputs": [],
   "source": [
    "# Import the csv ('comma-separated values') file called 'winter.csv'.\n",
    "# The numpy method to import structured data is genfromtxt().\n",
    "\n",
    "winter1 = np.genfromtxt(\"winter.csv\", delimiter =\",\")\n",
    "\n",
    "# The alternative function is loadtxt(), which is faster but, unlike genfromtxt(), does not take into account missing values."
   ]
  },
  {
   "cell_type": "code",
   "execution_count": 31,
   "metadata": {},
   "outputs": [
    {
     "name": "stdout",
     "output_type": "stream",
     "text": [
      "[[   nan    nan    nan    nan]\n",
      " [2017.    12.4   14.3   16.6]\n",
      " [2018.    16.3   22.2   20.1]]\n"
     ]
    }
   ],
   "source": [
    "print(winter1)"
   ]
  },
  {
   "cell_type": "code",
   "execution_count": 32,
   "metadata": {},
   "outputs": [
    {
     "name": "stdout",
     "output_type": "stream",
     "text": [
      "[[2017.    12.4   14.3   16.6]\n",
      " [2018.    16.3   22.2   20.1]]\n"
     ]
    }
   ],
   "source": [
    "# The csv file contains mixed data -  both textual and numeric. As you can see, the textual data has been replaced with 'NaN'.\n",
    "# We can either remove the rows with textual data OR we can force all data be displayed in the output.\n",
    "# If we are confident that the textual data, especially in the header, is not essential, we can remove it:\n",
    "\n",
    "winter2 = np.genfromtxt(\"winter.csv\", delimiter=\",\", skip_header=1)\n",
    "\n",
    "print(winter2)"
   ]
  },
  {
   "cell_type": "code",
   "execution_count": 33,
   "metadata": {},
   "outputs": [
    {
     "name": "stdout",
     "output_type": "stream",
     "text": [
      "[[b'Year' b'Dec' b'Jan' b'Feb']\n",
      " [b'2017' b'12.4' b'14.3' b'16.6']\n",
      " [b'2018' b'16.3' b'22.2' b'20.1']]\n"
     ]
    },
    {
     "name": "stderr",
     "output_type": "stream",
     "text": [
      "C:\\Users\\1veln\\Anaconda3\\lib\\site-packages\\ipykernel_launcher.py:3: VisibleDeprecationWarning: Reading unicode strings without specifying the encoding argument is deprecated. Set the encoding, use None for the system default.\n",
      "  This is separate from the ipykernel package so we can avoid doing imports until\n"
     ]
    }
   ],
   "source": [
    "# To print out all mixed data, you may need to set dtype to None as below.\n",
    "\n",
    "winter3 =  np.genfromtxt(\"winter.csv\", delimiter=\",\", dtype=None)\n",
    "print(winter3)\n",
    "\n",
    "# The output may contain 'b' before each data value. \n",
    "# np.genfromtxt operate in byte mode, which is the default string type in Python 2. \n",
    "# But Python 3 uses unicode, and marks bytestrings with this character 'b'."
   ]
  },
  {
   "cell_type": "code",
   "execution_count": 34,
   "metadata": {},
   "outputs": [
    {
     "name": "stdout",
     "output_type": "stream",
     "text": [
      "[['Year' 'Dec' 'Jan' 'Feb']\n",
      " ['2017' '12.4' '14.3' '16.6']\n",
      " ['2018' '16.3' '22.2' '20.1']]\n"
     ]
    }
   ],
   "source": [
    "# If you set dtype argument to 'str', it gives the cleanest display.\n",
    "\n",
    "winter3 =  np.genfromtxt(\"winter.csv\", delimiter=\",\", dtype=str)\n",
    "print(winter3)"
   ]
  },
  {
   "cell_type": "code",
   "execution_count": 35,
   "metadata": {},
   "outputs": [
    {
     "name": "stdout",
     "output_type": "stream",
     "text": [
      "['2018' '16.3' '22.2' '20.1']\n"
     ]
    }
   ],
   "source": [
    "# We can slice off a piece of numpy arrays by index position as we did it with lists and tuples.\n",
    "# If we set the slicer to [2], it will return the third row.\n",
    "\n",
    "print(winter3[2])"
   ]
  },
  {
   "cell_type": "code",
   "execution_count": 36,
   "metadata": {},
   "outputs": [],
   "source": [
    "# We may save the numpy array as csv or text files.\n",
    "# fmt argument specified formatting options. By default numbers will be stored in float format.\n",
    "# %d value will store numbers as integers, while %s saves them as strings.\n",
    "\n",
    "np.savetxt(\"winter3.csv\", winter3, delimiter=\",\", fmt='%s')\n",
    "\n",
    "# Alternative way is to use winter3.tofile() method, yet it may cause various formatting problems.\n",
    "# More on saving arrays in external files see: https://thispointer.com/how-to-save-numpy-array-to-a-csv-file-using-numpy-savetxt-in-python/"
   ]
  },
  {
   "cell_type": "markdown",
   "metadata": {},
   "source": [
    "<div class=\"alert alert-block alert-info\">\n",
    "    <h1>pandas and DataFrames</h1>\n",
    "    <p>The pandas data frame is an easy-to-query table-like structures consisting of rows and columns. They can be created by loading the data from the external, existing storage like a database, SQL or CSV files. But the pandas Data Frame can also be created from the lists, dictionary, etc.</p>\n",
    " </div>"
   ]
  },
  {
   "cell_type": "code",
   "execution_count": 37,
   "metadata": {},
   "outputs": [
    {
     "data": {
      "text/plain": [
       "'0.24.2'"
      ]
     },
     "execution_count": 37,
     "metadata": {},
     "output_type": "execute_result"
    }
   ],
   "source": [
    "# We may read a cvs file as DataFrame by using the pandas library.\n",
    "# Import pandas under the alias 'pd' for quicker coding.\n",
    "\n",
    "import pandas as pd\n",
    "\n",
    "# You may check the version of pandas, and ny other module, by using double underscore as below:\n",
    "\n",
    "pd.__version__"
   ]
  },
  {
   "cell_type": "code",
   "execution_count": 38,
   "metadata": {},
   "outputs": [
    {
     "data": {
      "text/html": [
       "<div>\n",
       "<style scoped>\n",
       "    .dataframe tbody tr th:only-of-type {\n",
       "        vertical-align: middle;\n",
       "    }\n",
       "\n",
       "    .dataframe tbody tr th {\n",
       "        vertical-align: top;\n",
       "    }\n",
       "\n",
       "    .dataframe thead th {\n",
       "        text-align: right;\n",
       "    }\n",
       "</style>\n",
       "<table border=\"1\" class=\"dataframe\">\n",
       "  <thead>\n",
       "    <tr style=\"text-align: right;\">\n",
       "      <th></th>\n",
       "      <th>Year</th>\n",
       "      <th>Dec</th>\n",
       "      <th>Jan</th>\n",
       "      <th>Feb</th>\n",
       "    </tr>\n",
       "  </thead>\n",
       "  <tbody>\n",
       "    <tr>\n",
       "      <th>0</th>\n",
       "      <td>2017</td>\n",
       "      <td>12.4</td>\n",
       "      <td>14.3</td>\n",
       "      <td>16.6</td>\n",
       "    </tr>\n",
       "    <tr>\n",
       "      <th>1</th>\n",
       "      <td>2018</td>\n",
       "      <td>16.3</td>\n",
       "      <td>22.2</td>\n",
       "      <td>20.1</td>\n",
       "    </tr>\n",
       "  </tbody>\n",
       "</table>\n",
       "</div>"
      ],
      "text/plain": [
       "   Year   Dec   Jan   Feb\n",
       "0  2017  12.4  14.3  16.6\n",
       "1  2018  16.3  22.2  20.1"
      ]
     },
     "execution_count": 38,
     "metadata": {},
     "output_type": "execute_result"
    }
   ],
   "source": [
    "# Create a variable pdWinter to store the csv file as DataFrame.\n",
    "\n",
    "pdWinter = pd.read_csv(\"winter.csv\", sep=\",\")\n",
    "\n",
    "# Print out the output of your variable. As you can see, pandas and their DataFrame cope nicely with outputting mixed data.\n",
    "\n",
    "pdWinter"
   ]
  },
  {
   "cell_type": "code",
   "execution_count": 39,
   "metadata": {},
   "outputs": [
    {
     "data": {
      "text/html": [
       "<div>\n",
       "<style scoped>\n",
       "    .dataframe tbody tr th:only-of-type {\n",
       "        vertical-align: middle;\n",
       "    }\n",
       "\n",
       "    .dataframe tbody tr th {\n",
       "        vertical-align: top;\n",
       "    }\n",
       "\n",
       "    .dataframe thead th {\n",
       "        text-align: right;\n",
       "    }\n",
       "</style>\n",
       "<table border=\"1\" class=\"dataframe\">\n",
       "  <thead>\n",
       "    <tr style=\"text-align: right;\">\n",
       "      <th></th>\n",
       "      <th>Year</th>\n",
       "      <th>Dec</th>\n",
       "      <th>Jan</th>\n",
       "      <th>Feb</th>\n",
       "    </tr>\n",
       "  </thead>\n",
       "  <tbody>\n",
       "    <tr>\n",
       "      <th>0</th>\n",
       "      <td>2017</td>\n",
       "      <td>12.4</td>\n",
       "      <td>14.3</td>\n",
       "      <td>16.6</td>\n",
       "    </tr>\n",
       "    <tr>\n",
       "      <th>1</th>\n",
       "      <td>2018</td>\n",
       "      <td>16.3</td>\n",
       "      <td>22.2</td>\n",
       "      <td>20.1</td>\n",
       "    </tr>\n",
       "    <tr>\n",
       "      <th>2</th>\n",
       "      <td>2019</td>\n",
       "      <td>9.0</td>\n",
       "      <td>7.0</td>\n",
       "      <td>11.0</td>\n",
       "    </tr>\n",
       "  </tbody>\n",
       "</table>\n",
       "</div>"
      ],
      "text/plain": [
       "   Year   Dec   Jan   Feb\n",
       "0  2017  12.4  14.3  16.6\n",
       "1  2018  16.3  22.2  20.1\n",
       "2  2019   9.0   7.0  11.0"
      ]
     },
     "execution_count": 39,
     "metadata": {},
     "output_type": "execute_result"
    }
   ],
   "source": [
    "# Add a new row to pdWinter to include the forecast for winter 2019.\n",
    "# First we need to define the data for the new row we want to add. This is where dictionaries come in handy.\n",
    "\n",
    "row = pd.Series({'Year':2019,'Dec':9,'Jan':7,'Feb':11},name=2)\n",
    "\n",
    "# Then use the append() method to add the row variable to pdWinter.\n",
    "\n",
    "Winter2017_2019 = pdWinter.append(row)\n",
    "\n",
    "Winter2017_2019"
   ]
  },
  {
   "cell_type": "code",
   "execution_count": 40,
   "metadata": {},
   "outputs": [
    {
     "data": {
      "text/html": [
       "<div>\n",
       "<style scoped>\n",
       "    .dataframe tbody tr th:only-of-type {\n",
       "        vertical-align: middle;\n",
       "    }\n",
       "\n",
       "    .dataframe tbody tr th {\n",
       "        vertical-align: top;\n",
       "    }\n",
       "\n",
       "    .dataframe thead th {\n",
       "        text-align: right;\n",
       "    }\n",
       "</style>\n",
       "<table border=\"1\" class=\"dataframe\">\n",
       "  <thead>\n",
       "    <tr style=\"text-align: right;\">\n",
       "      <th></th>\n",
       "      <th>Year</th>\n",
       "      <th>Dec</th>\n",
       "      <th>Jan</th>\n",
       "      <th>Feb</th>\n",
       "      <th>March</th>\n",
       "      <th>April</th>\n",
       "      <th>May</th>\n",
       "    </tr>\n",
       "  </thead>\n",
       "  <tbody>\n",
       "    <tr>\n",
       "      <th>0</th>\n",
       "      <td>2017</td>\n",
       "      <td>12.4</td>\n",
       "      <td>14.3</td>\n",
       "      <td>16.6</td>\n",
       "      <td>15.3</td>\n",
       "      <td>17.1</td>\n",
       "      <td>24.2</td>\n",
       "    </tr>\n",
       "    <tr>\n",
       "      <th>1</th>\n",
       "      <td>2018</td>\n",
       "      <td>16.3</td>\n",
       "      <td>22.2</td>\n",
       "      <td>20.1</td>\n",
       "      <td>16.7</td>\n",
       "      <td>17.5</td>\n",
       "      <td>20.0</td>\n",
       "    </tr>\n",
       "  </tbody>\n",
       "</table>\n",
       "</div>"
      ],
      "text/plain": [
       "   Year   Dec   Jan   Feb  March  April   May\n",
       "0  2017  12.4  14.3  16.6   15.3   17.1  24.2\n",
       "1  2018  16.3  22.2  20.1   16.7   17.5  20.0"
      ]
     },
     "execution_count": 40,
     "metadata": {},
     "output_type": "execute_result"
    }
   ],
   "source": [
    "# We can also add new columns to the existing data in DataFrames. This time we want to add temperatures for spring months.\n",
    "# We  can use pandas-specific method assign() and lists.\n",
    "\n",
    "Winter_Spring = pdWinter.assign(March=[15.3, 16.7], April=[17.1, 17.5], May=[24.2, 20])\n",
    "\n",
    "Winter_Spring"
   ]
  },
  {
   "cell_type": "code",
   "execution_count": 41,
   "metadata": {},
   "outputs": [],
   "source": [
    "# We can dinally export the expanded data from DataFrame to a csv file.\n",
    "# The argument index=False will prevent from saving the index column into an external file.\n",
    "\n",
    "Winter_Spring.to_csv(\"winter_spring.csv\", index=False)"
   ]
  },
  {
   "cell_type": "code",
   "execution_count": 42,
   "metadata": {},
   "outputs": [
    {
     "name": "stdout",
     "output_type": "stream",
     "text": [
      "[[2017.    12.4   14.3   16.6   15.3   17.1   24.2]\n",
      " [2018.    16.3   22.2   20.1   16.7   17.5   20. ]]\n"
     ]
    }
   ],
   "source": [
    "# We can convert pandas' DataFrames to Numpy arrays as below:\n",
    "\n",
    "npTemps = np.array(Winter_Spring)\n",
    "\n",
    "print(npTemps)"
   ]
  },
  {
   "cell_type": "markdown",
   "metadata": {},
   "source": [
    "<div class=\"alert alert-block alert-success\">\n",
    "<h2>Over to You</h2><br>\n",
    "<ul><li>Find some structured data published publicaly online. You may wish to work with, for example, immigration stats as published on www.gov.uk. You may, for example, merge data from separate spreadsheets to get a more comparative view on bigger data.</li>\n",
    "<li>You may work with NumPy arrays or pandas' DataFrames, or a combination of both.</li>\n",
    "<li>Calculate the median, mean, minimum and maximum values of your data. You may want to experiment more with slicing and dicing your data.</li>\n",
    "<li>Draw some conclusions about the underlying patterns of your data.</li>\n",
    "<li>Create a new data variable at the end and save it in the external csv file.</li>\n",
    "<li>Document your data wranggling with comments in the code cells. Use the markdown cells to explain where you csv file(s) come from and to comment of your findings. </li>\n",
    "<li>Save your Jupyter Notebook as 'Lesson2.ipynb' and zip it with all the relevant Excel files (the ones that you download from an external link and the one that you create in the end) in the file called 'Homework2.zip'.</li></ul><br>\n",
    "<h3>Submit the zipped file via the designated area on KEATS by 4pm on 21st November 2019.</h3>\n",
    "</div>"
   ]
  }
 ],
 "metadata": {
  "kernelspec": {
   "display_name": "Python 3",
   "language": "python",
   "name": "python3"
  },
  "language_info": {
   "codemirror_mode": {
    "name": "ipython",
    "version": 3
   },
   "file_extension": ".py",
   "mimetype": "text/x-python",
   "name": "python",
   "nbconvert_exporter": "python",
   "pygments_lexer": "ipython3",
   "version": "3.7.3"
  }
 },
 "nbformat": 4,
 "nbformat_minor": 2
}
